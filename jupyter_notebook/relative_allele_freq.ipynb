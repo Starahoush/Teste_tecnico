{
 "cells": [
  {
   "cell_type": "code",
   "execution_count": 1,
   "metadata": {},
   "outputs": [],
   "source": [
    "import pandas as pd\n",
    "import io\n",
    "import matplotlib.pyplot as plt\n",
    "import numpy as np\n",
    "import re"
   ]
  },
  {
   "cell_type": "code",
   "execution_count": 2,
   "metadata": {},
   "outputs": [],
   "source": [
    "#Importing the data in chunks; increases time but decreases memory consumption\n",
    "def main():\n",
    "    \n",
    "    #Creates a list with dictionaries\n",
    "    for run in range(0,12):\n",
    "        cols = np.arange(6,20688)+(20682*run)\n",
    "        indexes = np.arange(6,20688,2)+(20682*run)\n",
    "        allels = pd.read_csv('filtered_conv.ped',sep = '\\t',header=None, usecols=cols)\n",
    "        \n",
    "        #Create a directory containing information on each allele\n",
    "        for i in indexes:\n",
    "            allel_1 = allels[i].value_counts().rename_axis('Nb').reset_index(name='counts')\n",
    "            allel_2 = allels[i+1].value_counts().rename_axis('Nb').reset_index(name='counts')\n",
    "\n",
    "            if len(allel_1['counts']) == 2 and len(allel_2['counts']) == 2: \n",
    "                alt_nb = allel_1['Nb'][1]\n",
    "                alt_c = allel_1['counts'][1]+allel_2['counts'][1]\n",
    "            elif len(allel_1['counts']) == 2:\n",
    "                alt_nb = allel_1['Nb'][1]\n",
    "                alt_c = allel_1['counts'][1]\n",
    "            else: \n",
    "                alt_nb = allel_2['Nb'][1]\n",
    "                alt_c = allel_2['counts'][1]\n",
    "\n",
    "            info = {'ref_Nb':allel_1['Nb'][0],\n",
    "                'c_ref':(allel_1['counts'][0]+allel_2['counts'][0]),\n",
    "                'alt_Nb':allel_1['Nb'][1] if len(allel_1['Nb']) == 2 else allel_2['Nb'][1],\n",
    "                'c_alt':alt_c}\n",
    "            freq_count.append(info)"
   ]
  },
  {
   "cell_type": "code",
   "execution_count": 3,
   "metadata": {},
   "outputs": [],
   "source": [
    "#I could not try this one, but should work properly\n",
    "def whole_main():\n",
    "    allels = pd.read_csv('filtered_conv.ped',sep = '\\t',header=None)\n",
    "    indexes = np.arange(6,248190,2)\n",
    "    for i in indexes:\n",
    "        allel_1 = allels[i].value_counts().rename_axis('Nb').reset_index(name='counts')\n",
    "        allel_2 = allels[i+1].value_counts().rename_axis('Nb').reset_index(name='counts')\n",
    "\n",
    "        if len(allel_1['counts']) == 2 and len(allel_2['counts']) == 2: \n",
    "            alt_nb = allel_1['Nb'][1]\n",
    "            alt_c = allel_1['counts'][1]+allel_2['counts'][1]\n",
    "        elif len(allel_1['counts']) == 2:\n",
    "            alt_nb = allel_1['Nb'][1]\n",
    "            alt_c = allel_1['counts'][1]\n",
    "        else: \n",
    "            alt_nb = allel_2['Nb'][1]\n",
    "            alt_c = allel_2['counts'][1]\n",
    "\n",
    "        info = {'ref_Nb':allel_1['Nb'][0],\n",
    "                'c_ref':(allel_1['counts'][0]+allel_2['counts'][0]),\n",
    "                'alt_Nb':allel_1['Nb'][1] if len(allel_1['Nb']) == 2 else allel_2['Nb'][1],\n",
    "                 'c_alt':alt_c}\n",
    "        freq_count.append(info)"
   ]
  },
  {
   "cell_type": "code",
   "execution_count": 4,
   "metadata": {},
   "outputs": [],
   "source": [
    "#Takes about 12 minutes to run but does not require too much memory; if not needed, uncomment whole_main()\n",
    "freq_count = []\n",
    "main()\n",
    "#whole_main()"
   ]
  },
  {
   "cell_type": "code",
   "execution_count": 5,
   "metadata": {},
   "outputs": [],
   "source": [
    "#Manipulate the generated dictionary and exports it as allele_freq.txt\n",
    "df = pd.DataFrame(freq_count)\n",
    "snp_id = pd.read_csv('filtered.bim',sep = '\\t',header=None, dtype={0:int, 1:str, 2:int, 3:int, 4:str, 5:str}, usecols=[1]).rename(columns = {1:'ID'})\n",
    "snp_id['ID'] = 'Chr'+snp_id['ID'].replace('-','/', regex = True)\n",
    "df_export = pd.DataFrame({'ID':snp_id['ID'],'Ref':df['ref_Nb'],'Alt':df['alt_Nb'],'Freq':df['c_alt']/214})\n",
    "df_export.to_csv(r'allele_freq.txt', header=True, index=None, sep='\\t', mode='w')"
   ]
  }
 ],
 "metadata": {
  "kernelspec": {
   "display_name": "Python 3",
   "language": "python",
   "name": "python3"
  },
  "language_info": {
   "codemirror_mode": {
    "name": "ipython",
    "version": 3
   },
   "file_extension": ".py",
   "mimetype": "text/x-python",
   "name": "python",
   "nbconvert_exporter": "python",
   "pygments_lexer": "ipython3",
   "version": "3.7.6"
  }
 },
 "nbformat": 4,
 "nbformat_minor": 4
}
