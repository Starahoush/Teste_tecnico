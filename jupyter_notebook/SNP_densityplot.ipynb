{
 "cells": [
  {
   "cell_type": "code",
   "execution_count": null,
   "metadata": {},
   "outputs": [],
   "source": [
    "import pandas as pd\n",
    "import io\n",
    "import matplotlib.pyplot as plt\n",
    "import numpy as np\n",
    "import seaborn as sns"
   ]
  },
  {
   "cell_type": "code",
   "execution_count": null,
   "metadata": {},
   "outputs": [],
   "source": [
    "##Importing bim file and selecting column of interest\n",
    "def read_bim(file):\n",
    "    return(pd.DataFrame(pd.read_csv(file,sep = '\\t',header=None,\n",
    "                                    dtype={0:int, 1:str, 2:int, 3:int, 4:str, 5:str}, \n",
    "                                    encoding = \"utf-8\")).rename(columns = {0:'CHROM',1:'ID',2:'gPOS',3:'POS',4:'ALT',5:'REF'}))\n",
    "df = read_bim('filtered.bim')\n",
    "pos = df['POS']"
   ]
  },
  {
   "cell_type": "code",
   "execution_count": null,
   "metadata": {},
   "outputs": [],
   "source": [
    "#Creating list of density for every 1kbp\n",
    "list = [0]*(int(pos.iloc[-1]/1000)+1)\n",
    "for i in pos:\n",
    "    list[int(i/1000)]+=1"
   ]
  },
  {
   "cell_type": "code",
   "execution_count": null,
   "metadata": {
    "scrolled": false
   },
   "outputs": [],
   "source": [
    "#ploting SNP density\n",
    "fig, ax = plt.subplots(figsize = (12,4), dpi=600)\n",
    "x_ax = np.arange(0,len(list))\n",
    "ax.plot(x_ax, list, linewidth=1.5)\n",
    "ax.set(xlabel = 'Posicao no genoma (Kbp)', ylabel = 'SNPs por 1Kbp',\n",
    "       title='Grafico de densidade')\n",
    "fig.savefig(\"densityplot.png\")"
   ]
  }
 ],
 "metadata": {
  "kernelspec": {
   "display_name": "Python 3",
   "language": "python",
   "name": "python3"
  },
  "language_info": {
   "codemirror_mode": {
    "name": "ipython",
    "version": 3
   },
   "file_extension": ".py",
   "mimetype": "text/x-python",
   "name": "python",
   "nbconvert_exporter": "python",
   "pygments_lexer": "ipython3",
   "version": "3.7.6"
  }
 },
 "nbformat": 4,
 "nbformat_minor": 4
}
